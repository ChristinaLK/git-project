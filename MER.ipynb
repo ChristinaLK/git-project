{
 "metadata": {
  "name": "MER"
 },
 "nbformat": 3,
 "nbformat_minor": 0,
 "worksheets": [
  {
   "cells": [
    {
     "cell_type": "code",
     "collapsed": false,
     "input": [
      "clickRecord = {\"Math 100/104\":[0], \"Math 101\": [0], \"Math 102\": [0], \"Math 103\": [0], \"Math 104/184\": [0], \"Math 105\": [0]}\n",
      "dateRecord = [\"June 7\"]\n"
     ],
     "language": "python",
     "metadata": {},
     "outputs": [],
     "prompt_number": 1
    },
    {
     "cell_type": "code",
     "collapsed": false,
     "input": [],
     "language": "python",
     "metadata": {},
     "outputs": []
    }
   ],
   "metadata": {}
  }
 ]
}