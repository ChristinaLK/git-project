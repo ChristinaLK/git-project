{
 "metadata": {
  "name": "day2-afternoon1"
 },
 "nbformat": 3,
 "nbformat_minor": 0,
 "worksheets": [
  {
   "cells": [
    {
     "cell_type": "code",
     "collapsed": false,
     "input": [
      "x = True"
     ],
     "language": "python",
     "metadata": {},
     "outputs": [],
     "prompt_number": 1
    },
    {
     "cell_type": "code",
     "collapsed": false,
     "input": [
      "type(x)"
     ],
     "language": "python",
     "metadata": {},
     "outputs": [
      {
       "output_type": "pyout",
       "prompt_number": 2,
       "text": [
        "bool"
       ]
      }
     ],
     "prompt_number": 2
    },
    {
     "cell_type": "code",
     "collapsed": false,
     "input": [
      "x = 6\n",
      "y = 10"
     ],
     "language": "python",
     "metadata": {},
     "outputs": [],
     "prompt_number": 3
    },
    {
     "cell_type": "code",
     "collapsed": false,
     "input": [
      "print x == y\n",
      "print x > y\n",
      "print x < y\n",
      "print x <= y\n",
      "print x >= y\n",
      "print x != y"
     ],
     "language": "python",
     "metadata": {},
     "outputs": [
      {
       "output_type": "stream",
       "stream": "stdout",
       "text": [
        "False\n",
        "False\n",
        "True\n",
        "True\n",
        "False\n",
        "True\n"
       ]
      }
     ],
     "prompt_number": 5
    },
    {
     "cell_type": "code",
     "collapsed": false,
     "input": [
      "if x < y: \n",
      "    print \"x is less than y\"\n",
      "elif y > x:\n",
      "    print \"y is greater than x\""
     ],
     "language": "python",
     "metadata": {},
     "outputs": [
      {
       "output_type": "stream",
       "stream": "stdout",
       "text": [
        "x is less than y\n"
       ]
      }
     ],
     "prompt_number": 34
    },
    {
     "cell_type": "code",
     "collapsed": false,
     "input": [
      "if x > y:\n",
      "    print \"x is greater than y\"\n",
      "else:\n",
      "    print \"x is less than y\""
     ],
     "language": "python",
     "metadata": {},
     "outputs": [
      {
       "output_type": "stream",
       "stream": "stdout",
       "text": [
        "x is less than y\n"
       ]
      }
     ],
     "prompt_number": 10
    },
    {
     "cell_type": "code",
     "collapsed": false,
     "input": [
      "def compareNum(a,b):\n",
      "    if a < b:\n",
      "        print a, \"is less than \", b\n",
      "    elif a > b:\n",
      "        print a, \"is greater than \", b\n",
      "    else:\n",
      "        print a, \"is equal to \", b"
     ],
     "language": "python",
     "metadata": {},
     "outputs": [],
     "prompt_number": 45
    },
    {
     "cell_type": "code",
     "collapsed": false,
     "input": [
      "compareNum(6,10)"
     ],
     "language": "python",
     "metadata": {},
     "outputs": [
      {
       "output_type": "stream",
       "stream": "stdout",
       "text": [
        "6 is less than  10\n"
       ]
      }
     ],
     "prompt_number": 46
    },
    {
     "cell_type": "code",
     "collapsed": false,
     "input": [
      "compareNum(10,6)"
     ],
     "language": "python",
     "metadata": {},
     "outputs": [
      {
       "output_type": "stream",
       "stream": "stdout",
       "text": [
        "10 is greater than  6\n"
       ]
      }
     ],
     "prompt_number": 47
    },
    {
     "cell_type": "code",
     "collapsed": false,
     "input": [
      "compareNum(6,6)"
     ],
     "language": "python",
     "metadata": {},
     "outputs": [
      {
       "output_type": "stream",
       "stream": "stdout",
       "text": [
        "6 is equal to  6\n"
       ]
      }
     ],
     "prompt_number": 49
    },
    {
     "cell_type": "code",
     "collapsed": false,
     "input": [
      "x = 4\n",
      "y = 10\n",
      "z = 5\n",
      "w = 0\n",
      "\n",
      "if x < z and y > z:\n",
      "    print \"z is in the middle\""
     ],
     "language": "python",
     "metadata": {},
     "outputs": [
      {
       "output_type": "stream",
       "stream": "stdout",
       "text": [
        "z is in the middle\n"
       ]
      }
     ],
     "prompt_number": 58
    },
    {
     "cell_type": "code",
     "collapsed": false,
     "input": [
      "i = 0\n",
      "while i < 10:\n",
      "    print \"i is equal to \", i\n",
      "    i += 1"
     ],
     "language": "python",
     "metadata": {},
     "outputs": [
      {
       "output_type": "stream",
       "stream": "stdout",
       "text": [
        "i is equal to  0\n",
        "i is equal to  1\n",
        "i is equal to  2\n",
        "i is equal to  3\n",
        "i is equal to  4\n",
        "i is equal to  5\n",
        "i is equal to  6\n",
        "i is equal to  7\n",
        "i is equal to  8\n",
        "i is equal to  9\n"
       ]
      }
     ],
     "prompt_number": 59
    },
    {
     "cell_type": "code",
     "collapsed": false,
     "input": [
      "def extendList(lst, num):\n",
      "    i = 1\n",
      "    while i <= num:\n",
      "        lst.append(i)\n",
      "        i +=1\n",
      "    print lst\n"
     ],
     "language": "python",
     "metadata": {},
     "outputs": [],
     "prompt_number": 80
    },
    {
     "cell_type": "code",
     "collapsed": false,
     "input": [
      "testList=[\"moo\", \"oink\", \"meow\", \"ruff\"]"
     ],
     "language": "python",
     "metadata": {},
     "outputs": [],
     "prompt_number": 81
    },
    {
     "cell_type": "code",
     "collapsed": false,
     "input": [
      "extendList(testList, 5)"
     ],
     "language": "python",
     "metadata": {},
     "outputs": [
      {
       "output_type": "stream",
       "stream": "stdout",
       "text": [
        "['moo', 'oink', 'meow', 'ruff', 1, 2, 3, 4, 5]\n"
       ]
      }
     ],
     "prompt_number": 82
    },
    {
     "cell_type": "code",
     "collapsed": false,
     "input": [
      "for i in range(10):\n",
      "    print i"
     ],
     "language": "python",
     "metadata": {},
     "outputs": [
      {
       "output_type": "stream",
       "stream": "stdout",
       "text": [
        "0\n",
        "1\n",
        "2\n",
        "3\n",
        "4\n",
        "5\n",
        "6\n",
        "7\n",
        "8\n",
        "9\n"
       ]
      }
     ],
     "prompt_number": 75
    },
    {
     "cell_type": "code",
     "collapsed": false,
     "input": [
      "def extendListFor(lst, num):\n",
      "    for i in range(num):\n",
      "        lst.append(i+1)\n",
      "    print lst"
     ],
     "language": "python",
     "metadata": {},
     "outputs": [],
     "prompt_number": 87
    },
    {
     "cell_type": "code",
     "collapsed": false,
     "input": [
      "extendListFor(testList, 3)"
     ],
     "language": "python",
     "metadata": {},
     "outputs": [
      {
       "output_type": "stream",
       "stream": "stdout",
       "text": [
        "['moo', 'oink', 'meow', 'ruff', 1, 2, 3, 4, 5, 0, 1, 2, 1, 2, 3]\n"
       ]
      }
     ],
     "prompt_number": 88
    },
    {
     "cell_type": "code",
     "collapsed": false,
     "input": [
      "swcNames = [\"Christina\", \"Tyler\", \"Lindsay\", \"Sarah\"]\n",
      "\n",
      "for i in range(len(swcNames)):\n",
      "    print swcNames[i]\n"
     ],
     "language": "python",
     "metadata": {},
     "outputs": [
      {
       "output_type": "stream",
       "stream": "stdout",
       "text": [
        "Christina\n",
        "Tyler\n",
        "Lindsay\n",
        "Sarah\n"
       ]
      }
     ],
     "prompt_number": 90
    },
    {
     "cell_type": "code",
     "collapsed": false,
     "input": [
      "swcNames = [\"Christina\", \"Tyler\", \"Lindsay\", \"Sarah\"]\n",
      "\n",
      "for i,j in enumerate(swcNames):\n",
      "    print i, j\n"
     ],
     "language": "python",
     "metadata": {},
     "outputs": [
      {
       "output_type": "stream",
       "stream": "stdout",
       "text": [
        "0 Christina\n",
        "1 Tyler\n",
        "2 Lindsay\n",
        "3 Sarah\n"
       ]
      }
     ],
     "prompt_number": 94
    },
    {
     "cell_type": "code",
     "collapsed": false,
     "input": [
      "swcNamesDict = {\"Christina\":\"math\", \"Tyler\":\"Bio\", \"Lindsay\":\"ed\", \"Sarah\":\"chem\"}\n",
      "\n",
      "for i in swcNamesDict.keys():\n",
      "    print i\n"
     ],
     "language": "python",
     "metadata": {},
     "outputs": [
      {
       "output_type": "stream",
       "stream": "stdout",
       "text": [
        "Sarah\n",
        "Christina\n",
        "Tyler\n",
        "Lindsay\n"
       ]
      }
     ],
     "prompt_number": 102
    },
    {
     "cell_type": "code",
     "collapsed": false,
     "input": [
      "selectList = [0,2]"
     ],
     "language": "python",
     "metadata": {},
     "outputs": [],
     "prompt_number": 103
    },
    {
     "cell_type": "code",
     "collapsed": false,
     "input": [
      "for i in swcNames:\n",
      "    print i"
     ],
     "language": "python",
     "metadata": {},
     "outputs": [
      {
       "output_type": "stream",
       "stream": "stdout",
       "text": [
        "Christina\n",
        "Tyler\n",
        "Lindsay\n",
        "Sarah\n"
       ]
      }
     ],
     "prompt_number": 107
    },
    {
     "cell_type": "code",
     "collapsed": false,
     "input": [
      "for i,j in swcNamesDict.iteritems():\n",
      "    print i, \"is the key for\", j"
     ],
     "language": "python",
     "metadata": {},
     "outputs": [
      {
       "output_type": "stream",
       "stream": "stdout",
       "text": [
        "Sarah is the key for chem\n",
        "Christina is the key for math\n",
        "Tyler is the key for Bio\n",
        "Lindsay is the key for ed\n"
       ]
      }
     ],
     "prompt_number": 110
    },
    {
     "cell_type": "code",
     "collapsed": false,
     "input": [
      "fib1 = [1, 1, 2, 3]\n",
      "fib2 = [1, 2, 3, 5]\n",
      "\n",
      "for z,i in zip(fib1, fib2):\n",
      "    print z + i"
     ],
     "language": "python",
     "metadata": {},
     "outputs": [
      {
       "output_type": "stream",
       "stream": "stdout",
       "text": [
        "2\n",
        "3\n",
        "5\n",
        "8\n"
       ]
      }
     ],
     "prompt_number": 112
    },
    {
     "cell_type": "code",
     "collapsed": false,
     "input": [
      "l1 = [\"moo\", \"oink\", \"woof\"]\n",
      "l2 = [\"cow\", \"pig\", \"dog\"]\n",
      "l3 = [\"soft\", \"medium\", \"loud\"]\n",
      "\n",
      "for i, j, k in zip(l1, l2, l3):\n",
      "    print j, \"makes a noise like\", i, \"at\", k, \"volume\""
     ],
     "language": "python",
     "metadata": {},
     "outputs": [
      {
       "output_type": "stream",
       "stream": "stdout",
       "text": [
        "cow makes a noise like moo at soft volume\n",
        "pig makes a noise like oink at medium volume\n",
        "dog makes a noise like woof at loud volume\n"
       ]
      }
     ],
     "prompt_number": 120
    },
    {
     "cell_type": "code",
     "collapsed": false,
     "input": [
      "l1 = [\"moo\", \"oink\", \"woof\"]\n",
      "l2 = [\"cow\", \"pig\", \"dog\"]\n",
      "l3 = [\"soft\", \"medium\", \"loud\"]\n",
      "\n",
      "for i in zip(l1, l2, l3):\n",
      "    print i"
     ],
     "language": "python",
     "metadata": {},
     "outputs": [
      {
       "output_type": "stream",
       "stream": "stdout",
       "text": [
        "('moo', 'cow', 'soft')\n",
        "('oink', 'pig', 'medium')\n",
        "('woof', 'dog', 'loud')\n"
       ]
      }
     ],
     "prompt_number": 121
    },
    {
     "cell_type": "code",
     "collapsed": false,
     "input": [],
     "language": "python",
     "metadata": {},
     "outputs": []
    }
   ],
   "metadata": {}
  }
 ]
}